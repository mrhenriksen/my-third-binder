{
  "metadata": {
    "language_info": {
      "name": ""
    },
    "kernelspec": {
      "name": "",
      "display_name": ""
    }
  },
  "nbformat_minor": 4,
  "nbformat": 4,
  "cells": [
    {
      "cell_type": "code",
      "source": "from manim import *\n\nconfig.media_width = \"75%\"\nconfig.verbosity = \"WARNING\"",
      "metadata": {},
      "execution_count": null,
      "outputs": []
    },
    {
      "cell_type": "code",
      "source": "%%manim -qm CircleToSquare\n\nclass CircleToSquare(Scene):\n    def construct(self):\n        blue_circle = Circle(color=BLUE, fill_opacity=0.5)\n        green_square = Square(color=GREEN, fill_opacity=0.8)\n        self.play(Create(blue_circle))\n        self.wait()\n        \n        self.play(Transform(blue_circle, green_square))\n        self.wait()",
      "metadata": {},
      "execution_count": null,
      "outputs": []
    }
  ]
}