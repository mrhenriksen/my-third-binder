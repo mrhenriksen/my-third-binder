{
 "cells": [
  {
   "cell_type": "code",
   "execution_count": null,
   "metadata": {},
   "outputs": [],
   "source": [
    "%%manim -ql -v WARNING Klik\n",
    "\n",
    "class Klik(Scene):\n",
    "    def construct(self):\n",
    "        dot1 = Dot(color = RED).shift(2 * LEFT)\n",
    "        dot2 = Dot(color = BLUE).shift(2 * RIGHT)\n",
    "        \n",
    "        self.add(dot1,dot2)\n",
    "        self.wait()\n",
    "        self.play(dot1.animate.move_to(dot2))\n",
    "        self.wait()\n",
    "        self.add_sound(ui-click.wav)\n",
    "        self.wait()"
   ]
  }
 ],
 "metadata": {
  "kernelspec": {
   "display_name": "Python 3 (ipykernel)",
   "language": "python",
   "name": "python3"
  },
  "language_info": {
   "codemirror_mode": {
    "name": "ipython",
    "version": 3
   },
   "file_extension": ".py",
   "mimetype": "text/x-python",
   "name": "python",
   "nbconvert_exporter": "python",
   "pygments_lexer": "ipython3",
   "version": "3.11.0"
  }
 },
 "nbformat": 4,
 "nbformat_minor": 2
}
